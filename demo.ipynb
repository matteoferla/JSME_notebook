{
  "nbformat": 4,
  "nbformat_minor": 0,
  "metadata": {
    "colab": {
      "name": "demo_JSME.ipynb",
      "provenance": []
    },
    "kernelspec": {
      "name": "python3",
      "display_name": "Python 3"
    },
    "language_info": {
      "name": "python"
    }
  },
  "cells": [
    {
      "cell_type": "code",
      "execution_count": null,
      "metadata": {
        "colab": {
          "base_uri": "https://localhost:8080/"
        },
        "id": "VgvObRGvWgap",
      },
      "outputs": [],
      "source": [
        "!pip install git+https://github.com/matteoferla/JSME_notebook_hack.git"
      ]
    },
    {
      "cell_type": "code",
      "source": [
        "from jsme_hack import JSMEHack\n",
        "jsme = JSMEHack('CCCC')"
      ],
      "metadata": {
        "id": "60AXMHtYWn33"
      },
      "execution_count": null,
      "outputs": []
    },
    {
      "cell_type": "code",
      "source": [
        "jsme.smiles"
      ],
      "metadata": {
        "id": "NvNYd1HXWrcV"
      },
      "execution_count": null,
      "outputs": []
    }
  ]
}