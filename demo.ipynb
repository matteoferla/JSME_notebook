{
 "nbformat": 4,
 "nbformat_minor": 0,
 "metadata": {
  "colab": {
   "name": "JSME_Demo.ipynb",
   "provenance": []
  },
  "kernelspec": {
   "name": "python3",
   "display_name": "Python 3"
  },
  "language_info": {
   "name": "python"
  }
 },
 "cells": [
  {
   "cell_type": "code",
   "execution_count": null,
   "metadata": {
    "id": "h9b_UWHDY89B"
   },
   "outputs": [],
   "source": [
    "## Demo from https://github.com/matteoferla/JSME_notebook_hack\n",
    "!pip install git+https://github.com/matteoferla/JSME_notebook_hack.git"
   ]
  },
  {
   "cell_type": "code",
   "source": [
    "from jsme_hack import JSMEHack\n",
    "jsme = JSMEHack('CCCC')"
   ],
   "metadata": {
    "id": "_7pePXCgZFDX"
   },
   "execution_count": null,
   "outputs": []
  },
  {
   "cell_type": "code",
   "source": [
    "jsme.smiles"
   ],
   "metadata": {
    "id": "wXd9LzVDZHIv"
   },
   "execution_count": null,
   "outputs": []
  }
 ]
}