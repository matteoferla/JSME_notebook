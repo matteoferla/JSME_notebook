{
 "nbformat": 4,
 "nbformat_minor": 0,
 "metadata": {
  "colab": {
   "name": "JSME_Demo.ipynb",
   "provenance": []
  },
  "kernelspec": {
   "name": "python3",
   "display_name": "Python 3"
  },
  "language_info": {
   "name": "python"
  }
 },
 "cells": [
  {
   "cell_type": "code",
   "execution_count": null,
   "metadata": {
    "id": "h9b_UWHDY89B"
   },
   "outputs": [],
   "source": [
    "## Demo from https://github.com/matteoferla/JSME_notebook\n",
    "!pip install jsme_notebook"
   ]
  },
  {
   "cell_type": "code",
   "source": [
    "# Basic usage\n",
    "from jsme_notebook import JSMENotebook\n",
    "smiles = 'CCO' #@param {type:\"string\"}\n",
    "jsme = JSMENotebook(smiles)\n",
    "print('Change the molecule!')"
   ],
   "metadata": {
    "id": "_7pePXCgZFDX"
   },
   "execution_count": null,
   "outputs": []
  },
  {
   "cell_type": "code",
   "source": [
    "jsme.smiles"
   ],
   "metadata": {
    "id": "wXd9LzVDZHIv"
   },
   "execution_count": null,
   "outputs": []
  },
  {
   "cell_type": "code",
   "execution_count": null,
   "outputs": [],
   "source": [
    "# RDKit variant\n",
    "!pip install singledispatchmethod rdkit-pypi\n",
    "from rdkit import Chem\n",
    "\n",
    "from jsme_notebook.rdkit import JSMERDKit\n",
    "\n",
    "mol = Chem.MolFromSmiles(smiles)\n",
    "\n",
    "rd_jsme = JSMERDKit(mol)"
   ],
   "metadata": {
    "collapsed": false,
    "pycharm": {
     "name": "#%%\n"
    }
   }
  },
  {
   "cell_type": "code",
   "execution_count": null,
   "outputs": [],
   "source": [
    "# manual activation of IPython console for rRDKit\n",
    "from rdkit.Chem.Draw import IPythonConsole\n",
    "rd_jsme.mol"
   ],
   "metadata": {
    "collapsed": false,
    "pycharm": {
     "name": "#%%\n"
    }
   }
  }
 ]
}
